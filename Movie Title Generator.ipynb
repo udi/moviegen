{
 "cells": [
  {
   "cell_type": "code",
   "execution_count": 65,
   "metadata": {
    "collapsed": true
   },
   "outputs": [],
   "source": [
    "from collections import *\n",
    "import csv\n",
    "\n",
    "def train_char_lm(data, order=4):\n",
    "    lm = defaultdict(Counter)\n",
    "    pad = \"~\" * order\n",
    "    data = pad + data\n",
    "    for i in xrange(len(data)-order):\n",
    "        history, char = data[i:i+order], data[i+order]\n",
    "        lm[history][char]+=1\n",
    "    def normalize(counter):\n",
    "        s = float(sum(counter.values()))\n",
    "        return [(c,cnt/s) for c,cnt in counter.iteritems()]\n",
    "    outlm = {hist:normalize(chars) for hist, chars in lm.iteritems()}\n",
    "    return outlm"
   ]
  },
  {
   "cell_type": "code",
   "execution_count": 2,
   "metadata": {
    "collapsed": true
   },
   "outputs": [],
   "source": [
    "from random import random\n",
    "\n",
    "def generate_letter(lm, history, order):\n",
    "        history = history[-order:]\n",
    "        dist = lm[history]\n",
    "        x = random()\n",
    "        for c,v in dist:\n",
    "            x = x - v\n",
    "            if x <= 0: return c"
   ]
  },
  {
   "cell_type": "code",
   "execution_count": 57,
   "metadata": {
    "collapsed": true
   },
   "outputs": [],
   "source": [
    "def generate_text(lm, order, nletters=10000):\n",
    "    history = \"~\" * order\n",
    "    out = []\n",
    "    for i in xrange(nletters):\n",
    "        c = generate_letter(lm, history, order)\n",
    "        history = history[-order:] + c\n",
    "        out.append(c)\n",
    "    return \"\".join(out)"
   ]
  },
  {
   "cell_type": "code",
   "execution_count": 120,
   "metadata": {
    "collapsed": false
   },
   "outputs": [],
   "source": [
    "def read_titles(genre = None):\n",
    "    titles = []\n",
    "    genre = genre.lower() if genre else None\n",
    "    with open('movies.csv', 'rb') as csvfile:\n",
    "        movie = csv.reader(csvfile, delimiter=',')\n",
    "        next(movie)\n",
    "        for row in movie:\n",
    "            if genre is None or row[2].lower().find(genre)>=0:\n",
    "                titles.append(row[1].split(\"(\")[0].strip())\n",
    "    print \"Read %d titles\"%len(titles)\n",
    "    return titles"
   ]
  },
  {
   "cell_type": "markdown",
   "metadata": {},
   "source": [
    "## Params"
   ]
  },
  {
   "cell_type": "code",
   "execution_count": 133,
   "metadata": {
    "collapsed": true
   },
   "outputs": [],
   "source": [
    "order = 6"
   ]
  },
  {
   "cell_type": "markdown",
   "metadata": {},
   "source": [
    "# Horror"
   ]
  },
  {
   "cell_type": "code",
   "execution_count": 128,
   "metadata": {
    "collapsed": false
   },
   "outputs": [
    {
     "name": "stdout",
     "output_type": "stream",
     "text": [
      "Read 3365 titles\n"
     ]
    }
   ],
   "source": [
    "titles = read_titles('Horror')"
   ]
  },
  {
   "cell_type": "code",
   "execution_count": 134,
   "metadata": {
    "collapsed": false
   },
   "outputs": [],
   "source": [
    "lm = train_char_lm(\"\\n\".join(titles), order)"
   ]
  },
  {
   "cell_type": "code",
   "execution_count": 138,
   "metadata": {
    "collapsed": false,
    "scrolled": true
   },
   "outputs": [
    {
     "name": "stdout",
     "output_type": "stream",
     "text": [
      "Toy Story of a Dynasty\n",
      "Jiminy Glick in Lover\n",
      "Lisbela e o Prison\n",
      "Deck the King 1½, The\n",
      "Blackadder Bar\n",
      "Having Sarah\n",
      "Crime on the Worst Christmas\n",
      "Window to Murders\n",
      "Vicious Kind Rewinds\n",
      "His and Guns\n",
      "Lost in Africa United\n",
      "Top Bananas\n",
      "Fish Came Together Movie\n",
      "This Is Magician\n",
      "Double, Toil and Maude\n",
      "Platinum Blondes\n",
      "Romantic Comedians of the Longer Than Parade\n",
      "Royal Honey\n",
      "Billboard Day's Night of the Ya-Ya Sister Act 2: Beauties\n",
      "Swearnet: That Burning Fetch\n",
      "Air Bud: Seventh Commando\n",
      "Surf Nazis Must Be Crazy?\n",
      "I Want to Seduce Difficult Women\n",
      "Dark Shadow\n",
      "Stormy Nights\n",
      "Ferngully: The Movie: The Movie\n",
      "Teahouse\n",
      "Bingo Long Legs\n",
      "Descendant\n",
      "Search Party Clowns, A\n",
      "Vampire Records\n",
      "Higher\n",
      "Skeleton\n",
      "The French Kiss, The\n",
      "Flower Depths, The\n",
      "Diary of 'Mork & Mindy'\n",
      "Bluffmaster\n",
      "So Closed\n",
      "Trains & Automobile\n",
      "Music in the White a\n"
     ]
    }
   ],
   "source": [
    "print \"\\n\".join([m for m in generate_text(lm, order, 1000).split('\\n') if m not in titles])"
   ]
  },
  {
   "cell_type": "markdown",
   "metadata": {
    "collapsed": true
   },
   "source": [
    "# Comedy"
   ]
  },
  {
   "cell_type": "code",
   "execution_count": 139,
   "metadata": {
    "collapsed": false,
    "scrolled": true
   },
   "outputs": [
    {
     "name": "stdout",
     "output_type": "stream",
     "text": [
      "Read 10124 titles\n",
      "Everybody's Baby\n",
      "The Magic Christ\n",
      "Bordering on Bad Behaviour\n",
      "Woman of the Map\n",
      "Jeff Dunham: Arguing with the Distance\n",
      "Schultze Gets Real\n",
      "Garfield Heroes\n",
      "Life Eternal While Drink, Smoke Sign, An\n",
      "Man Who Knew Too Little Dream\n",
      "Russian Dollar Comedy\n",
      "Fraternity Demon Slayer\n",
      "Crocodile Dundee in Love\n",
      "Terkel in Distress American Dream, A\n",
      "Life as We Know About Not Overly\n",
      "Dealin' with Me\n",
      "Can I Do That\n",
      "Let's Get Those English\n",
      "Boris Karloff\n",
      "America's Sweet Home\n",
      "Big Picture 101\n",
      "Under and the Buffalo, The\n",
      "Boys and the Leaping Fish\n",
      "The Seven Psychopaths\n",
      "Crazy II, The\n",
      "Motel Hell Is for Highness and Nothing\n",
      "Bloodsucking Up\n",
      "Rover Dangerous Mind\n",
      "Blind Dating Season, The\n",
      "Little 2\n",
      "King of Hate\n",
      "If I Were Sleepy Hollywood, Look at Me\n",
      "Pour 100 briques t'as \n"
     ]
    }
   ],
   "source": [
    "titles = read_titles('Comedy')\n",
    "lm = train_char_lm(\"\\n\".join(titles), order)\n",
    "print \"\\n\".join([m for m in generate_text(lm, order, 1000).split('\\n') if m not in titles])"
   ]
  },
  {
   "cell_type": "markdown",
   "metadata": {},
   "source": [
    "# Thriller"
   ]
  },
  {
   "cell_type": "code",
   "execution_count": 140,
   "metadata": {
    "collapsed": false
   },
   "outputs": [
    {
     "name": "stdout",
     "output_type": "stream",
     "text": [
      "Read 5300 titles\n",
      "Butterfly Effect 2\n",
      "Captain Midnight Court-Martial of War, The\n",
      "Julia and Judy\n",
      "Before the Truth About Her\n",
      "The Alphabet City\n",
      "Mean Season\n",
      "Field in July\n",
      "Hit Listener, The\n",
      "Open Your Body's Tears: The Light\n",
      "Bloodsport: The Beach Party\n",
      "Armored Car Robbers\n",
      "Rumors of Wrath of Lie, You Did Last Vampires\n",
      "Children of Reach\n",
      "Kill Me Softly\n",
      "Kounterfeit Train\n",
      "Sorry, Wrong Turn 2: Dead Man's Skin, A\n",
      "House on Carroll Street Fighter: Assault at West Point: The Terror\n",
      "Mirror, The\n",
      "Prata Paloma\n",
      "An Inspector Palmu's Error\n",
      "Night 3D\n",
      "Strangler, The\n",
      "Death of Khan\n",
      "Undertown\n",
      "Stories of Witch Mountain\n",
      "Black\n"
     ]
    }
   ],
   "source": [
    "titles = read_titles('Thriller')\n",
    "lm = train_char_lm(\"\\n\".join(titles), order)\n",
    "print \"\\n\".join([m for m in generate_text(lm, order, 1000).split('\\n') if m not in titles])"
   ]
  },
  {
   "cell_type": "code",
   "execution_count": null,
   "metadata": {
    "collapsed": true
   },
   "outputs": [],
   "source": []
  }
 ],
 "metadata": {
  "kernelspec": {
   "display_name": "Python 2",
   "language": "python",
   "name": "python2"
  },
  "language_info": {
   "codemirror_mode": {
    "name": "ipython",
    "version": 2
   },
   "file_extension": ".py",
   "mimetype": "text/x-python",
   "name": "python",
   "nbconvert_exporter": "python",
   "pygments_lexer": "ipython2",
   "version": "2.7.10"
  }
 },
 "nbformat": 4,
 "nbformat_minor": 0
}
