{
 "cells": [
  {
   "cell_type": "markdown",
   "metadata": {},
   "source": [
    "# Generating Movie Titles"
   ]
  },
  {
   "cell_type": "code",
   "execution_count": 1,
   "metadata": {
    "collapsed": true
   },
   "outputs": [],
   "source": [
    "from collections import *\n",
    "import csv\n",
    "\n",
    "def train_char_lm(data, order=4):\n",
    "    lm = defaultdict(Counter)\n",
    "    pad = \"~\" * order\n",
    "    data = pad + data\n",
    "    for i in xrange(len(data)-order):\n",
    "        history, char = data[i:i+order], data[i+order]\n",
    "        lm[history][char]+=1\n",
    "    def normalize(counter):\n",
    "        s = float(sum(counter.values()))\n",
    "        return [(c,cnt/s) for c,cnt in counter.iteritems()]\n",
    "    outlm = {hist:normalize(chars) for hist, chars in lm.iteritems()}\n",
    "    return outlm"
   ]
  },
  {
   "cell_type": "code",
   "execution_count": 2,
   "metadata": {
    "collapsed": true
   },
   "outputs": [],
   "source": [
    "from random import random\n",
    "\n",
    "def generate_letter(lm, history, order):\n",
    "        history = history[-order:]\n",
    "        dist = lm[history]\n",
    "        x = random()\n",
    "        for c,v in dist:\n",
    "            x = x - v\n",
    "            if x <= 0: return c"
   ]
  },
  {
   "cell_type": "code",
   "execution_count": 3,
   "metadata": {
    "collapsed": true
   },
   "outputs": [],
   "source": [
    "def generate_text(lm, order, nletters=10000):\n",
    "    history = \"~\" * order\n",
    "    out = []\n",
    "    for i in xrange(nletters):\n",
    "        c = generate_letter(lm, history, order)\n",
    "        history = history[-order:] + c\n",
    "        out.append(c)\n",
    "    return \"\".join(out)"
   ]
  },
  {
   "cell_type": "code",
   "execution_count": 4,
   "metadata": {
    "collapsed": false
   },
   "outputs": [],
   "source": [
    "def read_titles(genre = None):\n",
    "    titles = []\n",
    "    genre = genre.lower() if genre else None\n",
    "    with open('movies.csv', 'rb') as csvfile:\n",
    "        movie = csv.reader(csvfile, delimiter=',')\n",
    "        next(movie)\n",
    "        for row in movie:\n",
    "            if genre is None or row[2].lower().find(genre)>=0:\n",
    "                titles.append(row[1].split(\"(\")[0].strip())\n",
    "    print \"Read %d titles\"%len(titles)\n",
    "    return titles"
   ]
  },
  {
   "cell_type": "markdown",
   "metadata": {},
   "source": [
    "## Params"
   ]
  },
  {
   "cell_type": "code",
   "execution_count": 5,
   "metadata": {
    "collapsed": true
   },
   "outputs": [],
   "source": [
    "order = 6"
   ]
  },
  {
   "cell_type": "markdown",
   "metadata": {},
   "source": [
    "# Horror"
   ]
  },
  {
   "cell_type": "code",
   "execution_count": 6,
   "metadata": {
    "collapsed": false
   },
   "outputs": [
    {
     "name": "stdout",
     "output_type": "stream",
     "text": [
      "Read 3365 titles\n"
     ]
    }
   ],
   "source": [
    "titles = read_titles('Horror')"
   ]
  },
  {
   "cell_type": "code",
   "execution_count": 7,
   "metadata": {
    "collapsed": false
   },
   "outputs": [],
   "source": [
    "lm = train_char_lm(\"\\n\".join(titles), order)"
   ]
  },
  {
   "cell_type": "code",
   "execution_count": 8,
   "metadata": {
    "collapsed": false,
    "scrolled": true
   },
   "outputs": [
    {
     "name": "stdout",
     "output_type": "stream",
     "text": [
      "Dracula, The\n",
      "Kiss of Spring Break Shark\n",
      "They Have Eyes II, The\n",
      "Feast II: The Last Friday\n",
      "Wrong Turn 3: Left Alive II\n",
      "One Body, The\n",
      "Horror\n",
      "Fantasm II\n",
      "Phantom of the Corn V: Fields\n",
      "Dark Mountain of the Folds of Fu Manchu\n",
      "Cyrus: Mind of Sleepy Hollow Man\n",
      "Psycho II: Body Snatcher, The\n",
      "Phantasma d'amore\n",
      "The Prophecy 3: The G.M.O. Chronicles\n",
      "Stage Fright Night\n",
      "Dark Night Cleaver\n",
      "Gingerdead Man vs. Predator - Requiem\n",
      "The Face of Dracula's Widow\n",
      "Cult of the Whispering Corpse\n",
      "Unfriend From Tomorrow\n",
      "Too Scared to Scream, The\n",
      "2019: After the Gathering, The\n",
      "Mother\n",
      "Toxic Avenger\n",
      "Borrowers, The\n",
      "Quatermass and the Pendulum and Only I Have Eyes of Death\n",
      "Saw VII 3D - The Final Conflict, The\n",
      "Name for the Shadowzone\n",
      "Game of the Zombie\n",
      "Over Your Killer\n",
      "De\n"
     ]
    }
   ],
   "source": [
    "print \"\\n\".join([m for m in generate_text(lm, order, 1000).split('\\n') if m not in titles])"
   ]
  },
  {
   "cell_type": "markdown",
   "metadata": {
    "collapsed": true
   },
   "source": [
    "# Comedy"
   ]
  },
  {
   "cell_type": "code",
   "execution_count": 9,
   "metadata": {
    "collapsed": false,
    "scrolled": true
   },
   "outputs": [
    {
     "name": "stdout",
     "output_type": "stream",
     "text": [
      "Read 10124 titles\n",
      "Toy Story of 'Mork & Mindy'\n",
      "Bluffmaster Broadcast of the Night A's\n",
      "Housekeeper\n",
      "Operación Eurovegas\n",
      "Manolito Four Shades\n",
      "Chosen One, Two, Many\n",
      "Russia\n",
      "Woman in Possessed\n",
      "Cheeky Girls Are '84\n",
      "Bathing\n",
      "Heads I Win, Tails You Are Sealed Cars\n",
      "How to Be Said, She Saints\n",
      "See No Evil\n",
      "Thanks for a Girl Like an Englishman Orient, The\n",
      "One and Only Old Lace\n",
      "Back to the Man in Honolulu\n",
      "Lewis Black Book\n",
      "In the Santa\n",
      "Comedians of a Teenage Mutant Ninja Cheerleaders, The\n",
      "It Happens Ever\n",
      "Padding\n",
      "A Pigeons, The\n",
      "To Paint\n",
      "Jen Kirkman: I'm a Grown Ups 2\n",
      "Jamie and Downstairs\n",
      "Sex Driver Klaus: The Next Door\n",
      "We're No Angels in the Girl\n",
      "Learning Pants\n",
      "Werner - Volles II, La\n",
      "Paint Young\n",
      "Day of the Whale \n"
     ]
    }
   ],
   "source": [
    "titles = read_titles('Comedy')\n",
    "lm = train_char_lm(\"\\n\".join(titles), order)\n",
    "print \"\\n\".join([m for m in generate_text(lm, order, 1000).split('\\n') if m not in titles])"
   ]
  },
  {
   "cell_type": "markdown",
   "metadata": {},
   "source": [
    "# Thriller"
   ]
  },
  {
   "cell_type": "code",
   "execution_count": 10,
   "metadata": {
    "collapsed": false
   },
   "outputs": [
    {
     "name": "stdout",
     "output_type": "stream",
     "text": [
      "Read 5300 titles\n",
      "Golden Gun, The\n",
      "I Spit on Your Daughter, The\n",
      "She Creed, The\n",
      "Bad Dream\n",
      "Murder, The\n",
      "Fog Over Chinatown\n",
      "Die! Die! My Darlings\n",
      "Pillow of Force of Darkly Noon, The\n",
      "Smilla's Sense of the Green Sails\n",
      "Age of Two Smoking Back\n",
      "Pusher II\n",
      "Fools' Paradise Now\n",
      "King Is Right\n",
      "He Love of Money\n",
      "Screamers: The Last Seduction\n",
      "Ocean's Thirteen Ghost\n",
      "The Falling Mahowny\n",
      "And Soon the Stanford Prison Break\n",
      "Omen IV: The Legend\n",
      "Objective\n",
      "Northwest Passenger\n",
      "Street with a Vengeance\n",
      "Confidence Girl Walks on High Heels\n",
      "Fade To Black, The\n",
      "Arlington Rock\n",
      "First Blooded\n",
      "Interrogation Game\n",
      "Better Wa\n"
     ]
    }
   ],
   "source": [
    "titles = read_titles('Thriller')\n",
    "lm = train_char_lm(\"\\n\".join(titles), order)\n",
    "print \"\\n\".join([m for m in generate_text(lm, order, 1000).split('\\n') if m not in titles])"
   ]
  },
  {
   "cell_type": "markdown",
   "metadata": {
    "collapsed": true
   },
   "source": [
    "# Fantasy"
   ]
  },
  {
   "cell_type": "code",
   "execution_count": 11,
   "metadata": {
    "collapsed": false
   },
   "outputs": [
    {
     "name": "stdout",
     "output_type": "stream",
     "text": [
      "Read 1692 titles\n",
      "Toy Storyteller\n",
      "Bhoothnath Return to Oz\n",
      "Sometimes They Came Back\n",
      "A Chinese Ghosts Can't Do It\n",
      "Sleeping Beautiful Day\n",
      "Hansel and the Beast\n",
      "Juliet of Mind: The Story\n",
      "Dark Crystal\n",
      "A Connecticut Yankee in King, The\n",
      "Little Witch Mountain, The\n",
      "Hercules in the Move\n",
      "Barbie and Harry\n",
      "Sword of the Brain!\n",
      "Piano Tuner of the Rescue\n",
      "German Angels in America\n",
      "Great Adventures of Dr. Caligari, The Five Armies\n",
      "The Witch Mountain\n",
      "8 Days of Cairo, The\n",
      "Loss of Sharkboy and the Whale\n",
      "The Curse of the Devil\n",
      "Rudolph and the Holograms\n",
      "Journey to the Stone, The\n",
      "Kids of Tomas Katz, The\n",
      "Picture of Desperation\n",
      "Jem and the Grinch Stole Christmas Eve\n",
      "Chandu the Magical Legend of the King Arthur 3: The Mystery of the Earth\n",
      "Ewoks: The Sorceress, The\n",
      "'Hellboy Animated: Sword, The\n",
      "Cloudy with an Angst\n",
      "Black Water\n",
      "Midnight Monsters, Inc.\n",
      "Harry Potter and the Invisible, The\n",
      "Lord of \n"
     ]
    }
   ],
   "source": [
    "titles = read_titles('Fantasy')\n",
    "lm = train_char_lm(\"\\n\".join(titles), order)\n",
    "print \"\\n\".join([m for m in generate_text(lm, order, 1000).split('\\n') if m not in titles])"
   ]
  },
  {
   "cell_type": "code",
   "execution_count": null,
   "metadata": {
    "collapsed": true
   },
   "outputs": [],
   "source": []
  }
 ],
 "metadata": {
  "kernelspec": {
   "display_name": "Python 2",
   "language": "python",
   "name": "python2"
  },
  "language_info": {
   "codemirror_mode": {
    "name": "ipython",
    "version": 2
   },
   "file_extension": ".py",
   "mimetype": "text/x-python",
   "name": "python",
   "nbconvert_exporter": "python",
   "pygments_lexer": "ipython2",
   "version": "2.7.10"
  }
 },
 "nbformat": 4,
 "nbformat_minor": 0
}
