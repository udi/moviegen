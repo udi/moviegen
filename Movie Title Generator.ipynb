{
 "cells": [
  {
   "cell_type": "code",
   "execution_count": 11,
   "metadata": {
    "collapsed": true
   },
   "outputs": [],
   "source": [
    "from collections import *\n",
    "\n",
    "def train_char_lm(data, order=4):\n",
    "    lm = defaultdict(Counter)\n",
    "    pad = \"~\" * order\n",
    "    data = pad + data\n",
    "    for i in xrange(len(data)-order):\n",
    "        history, char = data[i:i+order], data[i+order]\n",
    "        lm[history][char]+=1\n",
    "    def normalize(counter):\n",
    "        s = float(sum(counter.values()))\n",
    "        return [(c,cnt/s) for c,cnt in counter.iteritems()]\n",
    "    outlm = {hist:normalize(chars) for hist, chars in lm.iteritems()}\n",
    "    return outlm"
   ]
  },
  {
   "cell_type": "code",
   "execution_count": 2,
   "metadata": {
    "collapsed": true
   },
   "outputs": [],
   "source": [
    "from random import random\n",
    "\n",
    "def generate_letter(lm, history, order):\n",
    "        history = history[-order:]\n",
    "        dist = lm[history]\n",
    "        x = random()\n",
    "        for c,v in dist:\n",
    "            x = x - v\n",
    "            if x <= 0: return c"
   ]
  },
  {
   "cell_type": "code",
   "execution_count": 57,
   "metadata": {
    "collapsed": true
   },
   "outputs": [],
   "source": [
    "def generate_text(lm, order, nletters=10000):\n",
    "    history = \"~\" * order\n",
    "    out = []\n",
    "    for i in xrange(nletters):\n",
    "        c = generate_letter(lm, history, order)\n",
    "        history = history[-order:] + c\n",
    "        out.append(c)\n",
    "    return \"\".join(out)"
   ]
  },
  {
   "cell_type": "code",
   "execution_count": 24,
   "metadata": {
    "collapsed": false
   },
   "outputs": [],
   "source": [
    "import csv\n",
    "titles = []\n",
    "with open('movies.csv', 'rb') as csvfile:\n",
    "    movie = csv.reader(csvfile, delimiter=',')\n",
    "    next(movie)\n",
    "    for row in movie:\n",
    "        titles.append(row[1].split(\"(\")[0].strip())"
   ]
  },
  {
   "cell_type": "code",
   "execution_count": 55,
   "metadata": {
    "collapsed": false
   },
   "outputs": [
    {
     "data": {
      "text/plain": [
       "True"
      ]
     },
     "execution_count": 55,
     "metadata": {},
     "output_type": "execute_result"
    }
   ],
   "source": [
    "\"Severe Clear\" in titles"
   ]
  },
  {
   "cell_type": "code",
   "execution_count": 51,
   "metadata": {
    "collapsed": false
   },
   "outputs": [],
   "source": [
    "lm = train_char_lm(\"\\n\".join(titles), order=8)"
   ]
  },
  {
   "cell_type": "code",
   "execution_count": 50,
   "metadata": {
    "collapsed": false
   },
   "outputs": [
    {
     "data": {
      "text/plain": [
       "34208"
      ]
     },
     "execution_count": 50,
     "metadata": {},
     "output_type": "execute_result"
    }
   ],
   "source": [
    "len(titles)"
   ]
  },
  {
   "cell_type": "code",
   "execution_count": 58,
   "metadata": {
    "collapsed": false,
    "scrolled": false
   },
   "outputs": [
    {
     "name": "stdout",
     "output_type": "stream",
     "text": [
      "Joan Rivers, The\n",
      "Lost in American Rhapsody in August\n",
      "Start the Revolution\n",
      "After Dark\n",
      "George Carlin: Jammin' in New York Confidentially Connie\n",
      "IMAX: Coral Reef Adventures of Police Tactics\n",
      "Execution\n",
      "Alien Nation: The Greg Louganis Story\n",
      "Puff, the Maverick\n",
      "Mrs. Palfrey at the Crossroads\n",
      "Come to the Far Side of the Flesh\n",
      "Abar, the Fire Burning\n",
      "Song of Two Cities, A\n",
      "Africa: The Plot to Destroy All Monster on Page One: Inside Outside\n",
      "Vaastav: The Resurrect Dead: The Movie\n",
      "L'uomo della mia vita\n",
      "The Whitechapel Vampire Chronicles of Vesperia: The James by the Sea\n",
      "Water for Chocolate Strawberry Vanilla\n",
      "Mahoney's Last Love\n",
      "Beyond a Reasonable Man, A\n",
      "Hearts and Mind of Mr. And Mrs. Muir, The\n",
      "All the Lighthouse\n",
      "Sammy and the Pirate Captain Midnight Chronicles of Narnia: The Japanese Summer: Double Man\n",
      "Abbott and Costello in Hollywood/Hollywood\n",
      "Where the Revolution Without a Face, The\n",
      "Boys: The Movie: Black - Victini and Reshiram\n",
      "Pokémon the Movie\n",
      "K2: Siren of the Dead 2: India\n",
      "Lorelei: The Witching and Zigo\n",
      "Voyage of Silver\n",
      "Questions Asked\n",
      "On the Water Carriers Are Waiting...\n",
      "China Lake Murder Case\n",
      "The Halloween\n",
      "Halloween: The Program\n",
      "Daughter\n",
      "Autumn Afternoon\n",
      "Johnny in the Night Shooting Dogs Lie\n",
      "Cigarettes and Sketches\n",
      "3rd World of Don Camillo\n",
      "Invisible Man\n",
      "Kull the Collapsed Out of My Life\n",
      "Balzac and the City\n",
      "Big Pun: The Grudge 2\n",
      "Sex Lives of the Spring\n",
      "Battle of the Paper Balloon, The\n",
      "Marine Story\n",
      "Leave The World at War\n",
      "Anchorman 2: The Royal Wedding\n",
      "Four Horsemen of Fortune\n",
      "Dreamer: Brian Wilson and the Mail...\n",
      "Katt Williams: The Pimp Chronicles of Narnia: The Life of Robert Ford, The\n",
      "Ascent of a Woman\n",
      "Deadly Fight in Mississippi\n",
      "This Is Stones Throw Records\n",
      "Supermensch: The Unknown Woman\n",
      "Goodbye Girl, A\n",
      "Bread and Rosie Get Laid\n",
      "Leaving Badly\n",
      "Richard Linklater\n",
      "Looking for Timothy, A\n",
      "Under the Night, The\n",
      "I Heart Monster in Time\n",
      "Where the DeBolts? [And Where Did They Get Even\n",
      "Curse of the Corn\n",
      "All Dogs Go to Hell\n",
      "5,000 Fingers of 1933\n",
      "Paranormal Activity With the Zohan\n",
      "Barefoot in the World\n",
      "Foreigner\n",
      "The Seven Seas\n",
      "Earth vs. the Sword with No Name, The\n",
      "Pickpocket'\n",
      "Battle of the Crows, A\n",
      "Story of Mojang\n",
      "Trouble in Paradise Road\n",
      "Travelling Players Club\n",
      "One Foot in Heaven's Burning Down the Moon\n",
      "Lady and the King\n",
      "Even Angels\n",
      "Giants and Soldier, The\n",
      "Angel in Cracktown\n",
      "Koko, a Talking Pictures\n",
      "Gray Matters Most\n",
      "Pie in the Mall: Eric's Billion$\n",
      "Castle of Fu Manchu\n",
      "The Natural Science of the Law\n",
      "Beyond the Chud\n",
      "Casualties of the Shore\n",
      "The Whitechapel Vampire\n",
      "Dead End Drive\n",
      "My First Love, Last Rites of Pastry\n",
      "Louis Cyr: The Story of Adele H., The\n",
      "Iran Is Not Yet Rated\n",
      "Fragile Trust: Plagiarism, Power, The\n",
      "Down the Last Journey\n",
      "Big Deal on Madonna Street, Below the Bitch\n",
      "Lost in Rio\n",
      "Flame of the Earth\n",
      "One Good Complex\n",
      "Liberty 37\n",
      "Sometime in Anatolia\n",
      "The Artist Is Presents Stewie Griffin: The Legend of Taras Bulba\n",
      "From the Earth\n",
      "Hole in the Saddle\n",
      "Snow Falling\n",
      "ThanksKilling Man\n",
      "Karthik Calling\n",
      "Welcome to Australian Atomic War\n",
      "Did You Hear....\n",
      "The Greenhorn\n",
      "Blood: The Liz Murray Christ\n",
      "God Loves Comedy\n",
      "Hugh Hefner: Playboy, Activist\n",
      "52 Tuesday\n",
      "Killing of an Urban Priest\n",
      "Of Human Body\n",
      "Root of All\n",
      "Blood Beast Terrors\n",
      "When the Fifth Season\n",
      "His New Protocol\n",
      "The Immoral Tales\n",
      "One of Our Father?\n",
      "My Brother, The\n",
      "Crime of Father the Thief\n",
      "Chicken Little Indian\n",
      "Banger Sister, The\n",
      "Guest from the Screen\n",
      "Beyond Gay: The Power of My Shadow\n",
      "Deadly Affair\n",
      "Berkshire Countryman\n",
      "Tintin and the Mask\n",
      "Life of Don Camillo\n",
      "The Little Girls\n",
      "River's Edge, The\n",
      "White Male\n",
      "Lives of Tomas Katz, The\n",
      "Flame and Work of Dr. Wassell, The\n",
      "Crystal Moon\n",
      "New Scenes From American Hero\n",
      "G.I. Joe: The Real Story\n",
      "Lady Killed My Mother's Boys\n",
      "Manuscripts Don't Choose Your Family\n",
      "Man Without Love, An\n",
      "Pelican Dreams in China They Eat Dogs\n",
      "Atlas Shrugged: Part IV\n",
      "Hooligan Factory, The\n",
      "Ungentleman\n",
      "Maybe I'll Come a Day\n",
      "Welcome Home in the Dark; The Untold Story\n",
      "The Parents Went Out in Georgia, The\n",
      "Winsor McCay, the Family Stone\n",
      "A Tale of Zatoichi and the Hard Way\n",
      "Spacehunter: Adventures of Tomas Katz, The\n",
      "Devil's Brigade\n",
      "The Sea Monsters\n",
      "Don't Be Afraid\n",
      "Starring Pancho Villa as Himself, The\n",
      "She's the Married\n",
      "American Revolution in France\n",
      "Before Sunset Strip\n",
      "Tales of the Ashes\n",
      "Little Game\n",
      "Bounce: Behind You\n",
      "Christian Finnegan: The First Assignment, The\n",
      "Alone With People?\n",
      "Samurai Sword\n",
      "Scenes from the Colonel \n",
      "Black Heart\n",
      "Thomas and the Dead\n",
      "Tomorrow Was the Night\n",
      "Buffy the Vampire\n",
      "Disney Princess, A\n",
      "Lady of Fate\n",
      "Tokyo Drift, The\n",
      "Fly Me to the Planet of Snail\n",
      "Claymation Christ, The\n",
      "Foreign Student Service\n",
      "Monsieur Vincent Chin?\n",
      "In the South Pole\n",
      "Tale of the Iguana, The\n",
      "This Ain't California Solo\n",
      "Kit Kittredge: An American\n",
      "Bloodsport: The Sandwich\n",
      "Playing 'In the Connecticut Yankee, The\n",
      "Echoes of the Ewings\n",
      "Silent Partners\n",
      "Godard's Passion Fish\n",
      "Thin Blue Jeans\n",
      "Bachelor Fathers\n",
      "Hong Kong\n",
      "Diary of a Cheat, The\n",
      "Girls Can't Buy Me Lunch, The\n",
      "Three Coins in the Time of the Eye\n",
      "The Boy and the Black Death\n",
      "Undisputed II: Last Match\n",
      "The Mirror of Mechagodzilla vs. Mecha Shark\n",
      "Harlan: In the Pink Panther Strikes Back\n",
      "Bulldog Drummond's Secretary\n",
      "Bicycle Dreams of Your Scarf, The\n",
      "Autumn Tale, A\n",
      "Dirty Mary Crazy Life\n",
      "Life After Trinity\n",
      "Mute Witness, The\n",
      "Alien from the Arcade\n",
      "Master with Prehistoric Women\n",
      "Little White Hair, The\n",
      "Looney, Looney, Looney Christmas\n",
      "Wind Across the Bridges\n",
      "Reality of the Bed\n",
      "Another Happy Elf\n",
      "Final Insult\n",
      "Shattered Cloud\n",
      "A Matter of Lights\n",
      "Flamingos\n",
      "The Long Walk Home, The\n",
      "Slumber Party\n",
      "Strange Planet of Snail\n",
      "Diary of a Flower\n",
      "Smiles of Police Captain America\n",
      "Fighter II: The Last Will of Dr. Kildare\n",
      "The Skeleton Man\n",
      "Necessities of the Curse\n",
      "Ju-on: The Engine 2 Kitchen\n",
      "The Road Kill\n",
      "Machine Blues\n",
      "Robin William\n",
      "A mí las mujeres, les gusta la legión\n",
      "Bhoothna\n"
     ]
    }
   ],
   "source": [
    "print \"\\n\".join([m for m in generate_text(lm, 8, 10000).split('\\n') if m not in titles])"
   ]
  },
  {
   "cell_type": "code",
   "execution_count": null,
   "metadata": {
    "collapsed": true
   },
   "outputs": [],
   "source": []
  }
 ],
 "metadata": {
  "kernelspec": {
   "display_name": "Python 2",
   "language": "python",
   "name": "python2"
  },
  "language_info": {
   "codemirror_mode": {
    "name": "ipython",
    "version": 2
   },
   "file_extension": ".py",
   "mimetype": "text/x-python",
   "name": "python",
   "nbconvert_exporter": "python",
   "pygments_lexer": "ipython2",
   "version": "2.7.10"
  }
 },
 "nbformat": 4,
 "nbformat_minor": 0
}
